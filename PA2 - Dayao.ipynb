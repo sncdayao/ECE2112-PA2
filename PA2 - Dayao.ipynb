{
 "cells": [
  {
   "cell_type": "markdown",
   "id": "7bc75e51-5c41-4a39-8fa4-5337b3ce2286",
   "metadata": {},
   "source": [
    "Sophia Nicole C. Dayao 2ECE-C\n",
    "<br>\n",
    "**ECE2112 PA2: Experiment 2**"
   ]
  },
  {
   "cell_type": "code",
   "execution_count": 46,
   "id": "332c40d7-3b19-404b-ad5b-faf110359db7",
   "metadata": {},
   "outputs": [],
   "source": [
    "import numpy as np"
   ]
  },
  {
   "cell_type": "markdown",
   "id": "de502964-c46d-44f9-b29c-56f14d80fca8",
   "metadata": {},
   "source": [
    "**NORMALIZATION PROBLEM**"
   ]
  },
  {
   "cell_type": "code",
   "execution_count": 87,
   "id": "cc712d85-e0b0-4a78-a81c-2d2b6c5ea0a0",
   "metadata": {},
   "outputs": [
    {
     "data": {
      "text/plain": [
       "array([[0.92478676, 0.2623846 , 0.70121974, 0.11626333, 0.10483088],\n",
       "       [0.39863376, 0.77423465, 0.59033619, 0.97210899, 0.41528515],\n",
       "       [0.83981606, 0.43987013, 0.56406551, 0.5840777 , 0.80782684],\n",
       "       [0.36215384, 0.89106318, 0.75238264, 0.67503515, 0.88832855],\n",
       "       [0.20687286, 0.50828512, 0.51910709, 0.13437624, 0.11451457]])"
      ]
     },
     "execution_count": 87,
     "metadata": {},
     "output_type": "execute_result"
    }
   ],
   "source": [
    "#create a random 5x5 ndarray and store it to variable X\n",
    "X = np.random.random((5,5))\n",
    "X"
   ]
  },
  {
   "cell_type": "code",
   "execution_count": 89,
   "id": "0567fd42-9953-4cab-8ef7-8d2ecb8ff170",
   "metadata": {},
   "outputs": [
    {
     "data": {
      "text/plain": [
       "array([[ 1.3994285 , -1.02170324,  0.58227355, -1.5557879 , -1.5975744 ],\n",
       "       [-0.52370187,  0.84914878,  0.17698549,  1.57239497, -0.46283975],\n",
       "       [ 1.08885395, -0.37297973,  0.08096411,  0.15411024,  0.97193086],\n",
       "       [-0.65703885,  1.27616617,  0.76927796,  0.48656681,  1.26617089],\n",
       "       [-1.22460298, -0.12291759, -0.08336242, -1.4895838 , -1.56217974]])"
      ]
     },
     "execution_count": 89,
     "metadata": {},
     "output_type": "execute_result"
    }
   ],
   "source": [
    "#normalize X\n",
    "\n",
    "#obtain element-wise mean\n",
    "X_mean = X.mean()\n",
    "\n",
    "#obtain element-wise standard deviation\n",
    "X_std = X.std ()\n",
    "\n",
    "#use formula to obtain normalization\n",
    "X_normalized = (X - X_mean) / X_std\n",
    "X_normalized"
   ]
  },
  {
   "cell_type": "code",
   "execution_count": 61,
   "id": "35c26182-7dd9-4e8e-9f72-5888b9d4c526",
   "metadata": {},
   "outputs": [],
   "source": [
    "#save the normalized ndarray as X_normalized.npy\n",
    "np.save ('X_normalized.npy', X_normalized)"
   ]
  },
  {
   "cell_type": "code",
   "execution_count": 110,
   "id": "0a4d7c80-f307-4f3b-8d49-c504276499cf",
   "metadata": {},
   "outputs": [
    {
     "name": "stdout",
     "output_type": "stream",
     "text": [
      "Array X: \n",
      " [[0.92478676 0.2623846  0.70121974 0.11626333 0.10483088]\n",
      " [0.39863376 0.77423465 0.59033619 0.97210899 0.41528515]\n",
      " [0.83981606 0.43987013 0.56406551 0.5840777  0.80782684]\n",
      " [0.36215384 0.89106318 0.75238264 0.67503515 0.88832855]\n",
      " [0.20687286 0.50828512 0.51910709 0.13437624 0.11451457]]\n",
      "\n",
      "Normalized Array X: \n",
      " [[ 1.3994285  -1.02170324  0.58227355 -1.5557879  -1.5975744 ]\n",
      " [-0.52370187  0.84914878  0.17698549  1.57239497 -0.46283975]\n",
      " [ 1.08885395 -0.37297973  0.08096411  0.15411024  0.97193086]\n",
      " [-0.65703885  1.27616617  0.76927796  0.48656681  1.26617089]\n",
      " [-1.22460298 -0.12291759 -0.08336242 -1.4895838  -1.56217974]]\n"
     ]
    }
   ],
   "source": [
    "#print arrays\n",
    "print (\"Array X: \\n\", X)\n",
    "print (\"\\nNormalized Array X: \\n\", X_normalized)"
   ]
  },
  {
   "cell_type": "markdown",
   "id": "fff0c73d-b716-4e44-9b6d-acf5b01b7934",
   "metadata": {},
   "source": [
    "**DIVISIBLE BY 3 PROBLEM**"
   ]
  },
  {
   "cell_type": "code",
   "execution_count": 104,
   "id": "4f537b84-6372-4218-b216-05d0307d37a7",
   "metadata": {},
   "outputs": [
    {
     "data": {
      "text/plain": [
       "array([[    1,     4,     9,    16,    25,    36,    49,    64,    81,\n",
       "          100],\n",
       "       [  121,   144,   169,   196,   225,   256,   289,   324,   361,\n",
       "          400],\n",
       "       [  441,   484,   529,   576,   625,   676,   729,   784,   841,\n",
       "          900],\n",
       "       [  961,  1024,  1089,  1156,  1225,  1296,  1369,  1444,  1521,\n",
       "         1600],\n",
       "       [ 1681,  1764,  1849,  1936,  2025,  2116,  2209,  2304,  2401,\n",
       "         2500],\n",
       "       [ 2601,  2704,  2809,  2916,  3025,  3136,  3249,  3364,  3481,\n",
       "         3600],\n",
       "       [ 3721,  3844,  3969,  4096,  4225,  4356,  4489,  4624,  4761,\n",
       "         4900],\n",
       "       [ 5041,  5184,  5329,  5476,  5625,  5776,  5929,  6084,  6241,\n",
       "         6400],\n",
       "       [ 6561,  6724,  6889,  7056,  7225,  7396,  7569,  7744,  7921,\n",
       "         8100],\n",
       "       [ 8281,  8464,  8649,  8836,  9025,  9216,  9409,  9604,  9801,\n",
       "        10000]])"
      ]
     },
     "execution_count": 104,
     "metadata": {},
     "output_type": "execute_result"
    }
   ],
   "source": [
    "#create a 10x10 ndarray containing the squares of the first 100 positive integers\n",
    "A = np.arange (1,101)**2\n",
    "A = A.reshape (10,10)\n",
    "A"
   ]
  },
  {
   "cell_type": "code",
   "execution_count": 108,
   "id": "c0739fea-acda-4af4-a6b3-7a329a9cb78b",
   "metadata": {},
   "outputs": [
    {
     "data": {
      "text/plain": [
       "array([   9,   36,   81,  144,  225,  324,  441,  576,  729,  900, 1089,\n",
       "       1296, 1521, 1764, 2025, 2304, 2601, 2916, 3249, 3600, 3969, 4356,\n",
       "       4761, 5184, 5625, 6084, 6561, 7056, 7569, 8100, 8649, 9216, 9801])"
      ]
     },
     "execution_count": 108,
     "metadata": {},
     "output_type": "execute_result"
    }
   ],
   "source": [
    "#determine the elements that are divisible by 3\n",
    "div_by_3 = A[A % 3 == 0]\n",
    "div_by_3"
   ]
  },
  {
   "cell_type": "code",
   "execution_count": 112,
   "id": "fa0bca46-9e2f-4ef6-b318-7f6d1e9d17e1",
   "metadata": {},
   "outputs": [],
   "source": [
    "#save the ndarray as div_by_3.npy\n",
    "np.save ('div_by_3.npy', div_by_3)"
   ]
  },
  {
   "cell_type": "code",
   "execution_count": 116,
   "id": "4a889b58-8c2a-4c05-820a-0803780c9847",
   "metadata": {},
   "outputs": [
    {
     "name": "stdout",
     "output_type": "stream",
     "text": [
      "Array A: \n",
      " [[    1     4     9    16    25    36    49    64    81   100]\n",
      " [  121   144   169   196   225   256   289   324   361   400]\n",
      " [  441   484   529   576   625   676   729   784   841   900]\n",
      " [  961  1024  1089  1156  1225  1296  1369  1444  1521  1600]\n",
      " [ 1681  1764  1849  1936  2025  2116  2209  2304  2401  2500]\n",
      " [ 2601  2704  2809  2916  3025  3136  3249  3364  3481  3600]\n",
      " [ 3721  3844  3969  4096  4225  4356  4489  4624  4761  4900]\n",
      " [ 5041  5184  5329  5476  5625  5776  5929  6084  6241  6400]\n",
      " [ 6561  6724  6889  7056  7225  7396  7569  7744  7921  8100]\n",
      " [ 8281  8464  8649  8836  9025  9216  9409  9604  9801 10000]]\n",
      "\n",
      "Elements divisible by 3: \n",
      " [   9   36   81  144  225  324  441  576  729  900 1089 1296 1521 1764\n",
      " 2025 2304 2601 2916 3249 3600 3969 4356 4761 5184 5625 6084 6561 7056\n",
      " 7569 8100 8649 9216 9801]\n"
     ]
    }
   ],
   "source": [
    "#print the ndarray\n",
    "print (\"Array A: \\n\", A)\n",
    "print (\"\\nElements divisible by 3: \\n\", div_by_3)"
   ]
  }
 ],
 "metadata": {
  "kernelspec": {
   "display_name": "Python 3 (ipykernel)",
   "language": "python",
   "name": "python3"
  },
  "language_info": {
   "codemirror_mode": {
    "name": "ipython",
    "version": 3
   },
   "file_extension": ".py",
   "mimetype": "text/x-python",
   "name": "python",
   "nbconvert_exporter": "python",
   "pygments_lexer": "ipython3",
   "version": "3.12.4"
  }
 },
 "nbformat": 4,
 "nbformat_minor": 5
}
